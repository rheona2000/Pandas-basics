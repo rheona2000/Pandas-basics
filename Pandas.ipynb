{
  "nbformat": 4,
  "nbformat_minor": 0,
  "metadata": {
    "colab": {
      "name": "Pandas.ipynb",
      "provenance": [],
      "collapsed_sections": [],
      "authorship_tag": "ABX9TyNpRGKQqrlHJKJkM3YCVX1e",
      "include_colab_link": true
    },
    "kernelspec": {
      "name": "python3",
      "display_name": "Python 3"
    },
    "language_info": {
      "name": "python"
    }
  },
  "cells": [
    {
      "cell_type": "markdown",
      "metadata": {
        "id": "view-in-github",
        "colab_type": "text"
      },
      "source": [
        "<a href=\"https://colab.research.google.com/github/rheona2000/Pandas-basics/blob/main/Pandas.ipynb\" target=\"_parent\"><img src=\"https://colab.research.google.com/assets/colab-badge.svg\" alt=\"Open In Colab\"/></a>"
      ]
    },
    {
      "cell_type": "markdown",
      "metadata": {
        "id": "tuj2eHNaXTrH"
      },
      "source": [
        "Pandas library ( panel data)"
      ]
    },
    {
      "cell_type": "code",
      "metadata": {
        "id": "sKOdlMcgXYbX",
        "colab": {
          "base_uri": "https://localhost:8080/"
        },
        "outputId": "5f55a9c9-daad-4581-8b96-575d93cf0122"
      },
      "source": [
        "import pandas as pd\n",
        "series1=pd.Series([1,2,3,4,5])\n",
        "print(series1)"
      ],
      "execution_count": null,
      "outputs": [
        {
          "output_type": "stream",
          "text": [
            "0    1\n",
            "1    2\n",
            "2    3\n",
            "3    4\n",
            "4    5\n",
            "dtype: int64\n"
          ],
          "name": "stdout"
        }
      ]
    },
    {
      "cell_type": "code",
      "metadata": {
        "colab": {
          "base_uri": "https://localhost:8080/"
        },
        "id": "8SJp67sXwHwZ",
        "outputId": "95eeae2d-79b5-4781-c26b-c9eae6d90f8f"
      },
      "source": [
        "s2=pd.Series([90,80,70,60],index=[\"rio\",\"sio\",\"mio\",\"jio\"])\n",
        "print(s2)"
      ],
      "execution_count": null,
      "outputs": [
        {
          "output_type": "stream",
          "text": [
            "rio    90\n",
            "sio    80\n",
            "mio    70\n",
            "jio    60\n",
            "dtype: int64\n"
          ],
          "name": "stdout"
        }
      ]
    },
    {
      "cell_type": "code",
      "metadata": {
        "colab": {
          "base_uri": "https://localhost:8080/"
        },
        "id": "vmNuwZGGz0A3",
        "outputId": "19e10e9a-682a-4216-a2ef-cefbe779429a"
      },
      "source": [
        "s3=pd.Series([\"a\",'b',\"c\",\"d\"],index=[12,23,23,23])\n",
        "print(s3)"
      ],
      "execution_count": null,
      "outputs": [
        {
          "output_type": "stream",
          "text": [
            "12    a\n",
            "23    b\n",
            "23    c\n",
            "23    d\n",
            "dtype: object\n"
          ],
          "name": "stdout"
        }
      ]
    },
    {
      "cell_type": "code",
      "metadata": {
        "id": "bR3Qk1yy1aGf",
        "colab": {
          "base_uri": "https://localhost:8080/"
        },
        "outputId": "b0c0e4f3-ed33-452d-836f-09be92293397"
      },
      "source": [
        "import pandas as pd\n",
        "s4=pd.Series([\"feb\",\"mar\",\"apr\"], index=['2','3','4'])\n",
        "print(s4)"
      ],
      "execution_count": null,
      "outputs": [
        {
          "output_type": "stream",
          "text": [
            "2    feb\n",
            "3    mar\n",
            "4    apr\n",
            "dtype: object\n"
          ],
          "name": "stdout"
        }
      ]
    },
    {
      "cell_type": "markdown",
      "metadata": {
        "id": "-jOzMkmMU3vm"
      },
      "source": [
        "inbuilt fuctions in the series"
      ]
    },
    {
      "cell_type": "markdown",
      "metadata": {
        "id": "keOgDKnFVZ84"
      },
      "source": [
        "using numpy arrays"
      ]
    },
    {
      "cell_type": "code",
      "metadata": {
        "colab": {
          "base_uri": "https://localhost:8080/"
        },
        "id": "6kynrSJuU87B",
        "outputId": "b6e05a97-9e11-4cb1-df8d-ffcf8c48d5ac"
      },
      "source": [
        "import numpy as np\n",
        "a1=np.array([1,2,3,4])\n",
        "s5=pd.Series(a1,index=['jan','feb','mar','apr'])\n",
        "print(s5)"
      ],
      "execution_count": null,
      "outputs": [
        {
          "output_type": "stream",
          "text": [
            "jan    1\n",
            "feb    2\n",
            "mar    3\n",
            "apr    4\n",
            "dtype: int64\n"
          ],
          "name": "stdout"
        }
      ]
    },
    {
      "cell_type": "markdown",
      "metadata": {
        "id": "bRz9YuMuVcyU"
      },
      "source": [
        "using Dictionaries"
      ]
    },
    {
      "cell_type": "code",
      "metadata": {
        "colab": {
          "base_uri": "https://localhost:8080/"
        },
        "id": "YBl5Q5XsVgqT",
        "outputId": "50125ef0-c255-4831-f102-3d7187b40428"
      },
      "source": [
        "d1={'india':'delhi','japan':'tokyo','uk':'london'}\n",
        "s6=pd.Series(d1)\n",
        "print(d1)\n",
        "print(s6)"
      ],
      "execution_count": null,
      "outputs": [
        {
          "output_type": "stream",
          "text": [
            "{'india': 'delhi', 'japan': 'tokyo', 'uk': 'london'}\n",
            "india     delhi\n",
            "japan     tokyo\n",
            "uk       london\n",
            "dtype: object\n"
          ],
          "name": "stdout"
        }
      ]
    },
    {
      "cell_type": "markdown",
      "metadata": {
        "id": "woyJ5sQNWJ2D"
      },
      "source": [
        "accessing through series\n"
      ]
    },
    {
      "cell_type": "code",
      "metadata": {
        "colab": {
          "base_uri": "https://localhost:8080/",
          "height": 35
        },
        "id": "h-V5TZCvWRAH",
        "outputId": "4ea07d60-3f17-4d24-9472-da7a1fd3d96c"
      },
      "source": [
        "s6[2]"
      ],
      "execution_count": null,
      "outputs": [
        {
          "output_type": "execute_result",
          "data": {
            "application/vnd.google.colaboratory.intrinsic+json": {
              "type": "string"
            },
            "text/plain": [
              "'london'"
            ]
          },
          "metadata": {
            "tags": []
          },
          "execution_count": 6
        }
      ]
    },
    {
      "cell_type": "markdown",
      "metadata": {
        "id": "l7d-ZhRvWDAD"
      },
      "source": [
        "another way"
      ]
    },
    {
      "cell_type": "code",
      "metadata": {
        "colab": {
          "base_uri": "https://localhost:8080/"
        },
        "id": "vAkDQuGGWxT4",
        "outputId": "7139f745-c994-47f7-b92d-df448b765ea3"
      },
      "source": [
        "print(s6[\"japan\"])"
      ],
      "execution_count": null,
      "outputs": [
        {
          "output_type": "stream",
          "text": [
            "tokyo\n"
          ],
          "name": "stdout"
        }
      ]
    },
    {
      "cell_type": "markdown",
      "metadata": {
        "id": "U1H2msGUW4EV"
      },
      "source": [
        "another method with two values"
      ]
    },
    {
      "cell_type": "code",
      "metadata": {
        "colab": {
          "base_uri": "https://localhost:8080/"
        },
        "id": "W9MOAeaSXDR4",
        "outputId": "dc3e8e00-ab0e-49b3-9ab3-9fe7c8614f79"
      },
      "source": [
        "print(s6[[2,0]])\n",
        "print(\"\\n\")\n",
        "print(s6[['india','japan']])"
      ],
      "execution_count": null,
      "outputs": [
        {
          "output_type": "stream",
          "text": [
            "uk       london\n",
            "india     delhi\n",
            "dtype: object\n"
          ],
          "name": "stdout"
        }
      ]
    },
    {
      "cell_type": "markdown",
      "metadata": {
        "id": "FYbtYzo-Xlp8"
      },
      "source": [
        "slicing"
      ]
    },
    {
      "cell_type": "code",
      "metadata": {
        "colab": {
          "base_uri": "https://localhost:8080/"
        },
        "id": "k3RZ6PHuXm2_",
        "outputId": "dd48c47c-ccf1-482b-c8a7-ffc577ce6e0d"
      },
      "source": [
        "s6[0:3]"
      ],
      "execution_count": null,
      "outputs": [
        {
          "output_type": "execute_result",
          "data": {
            "text/plain": [
              "india     delhi\n",
              "japan     tokyo\n",
              "uk       london\n",
              "dtype: object"
            ]
          },
          "metadata": {
            "tags": []
          },
          "execution_count": 10
        }
      ]
    },
    {
      "cell_type": "code",
      "metadata": {
        "colab": {
          "base_uri": "https://localhost:8080/"
        },
        "id": "Ga9TW0GtX2Bd",
        "outputId": "8aef3e43-2d03-4e71-cd3a-e53fa7d534be"
      },
      "source": [
        "#emptyseries\n",
        "s6[4:10]"
      ],
      "execution_count": null,
      "outputs": [
        {
          "output_type": "execute_result",
          "data": {
            "text/plain": [
              "Series([], dtype: object)"
            ]
          },
          "metadata": {
            "tags": []
          },
          "execution_count": 11
        }
      ]
    },
    {
      "cell_type": "markdown",
      "metadata": {
        "id": "oPVr73VOYDYm"
      },
      "source": [
        "same in the reverse order"
      ]
    },
    {
      "cell_type": "code",
      "metadata": {
        "colab": {
          "base_uri": "https://localhost:8080/"
        },
        "id": "SOVD2L7nYITR",
        "outputId": "c541edb2-4005-4ae2-f1c1-5cd0fb6be15a"
      },
      "source": [
        "s7=pd.Series(np.arange(1,50,5),index=['a','b','c','rio','jio','f','g','h','i','j'])\n",
        "s7"
      ],
      "execution_count": null,
      "outputs": [
        {
          "output_type": "execute_result",
          "data": {
            "text/plain": [
              "a       1\n",
              "b       6\n",
              "c      11\n",
              "rio    16\n",
              "jio    21\n",
              "f      26\n",
              "g      31\n",
              "h      36\n",
              "i      41\n",
              "j      46\n",
              "dtype: int64"
            ]
          },
          "metadata": {
            "tags": []
          },
          "execution_count": 12
        }
      ]
    },
    {
      "cell_type": "code",
      "metadata": {
        "colab": {
          "base_uri": "https://localhost:8080/"
        },
        "id": "IppAaKYMalEa",
        "outputId": "2ab1623f-ab73-4ad2-cb83-56dcd77579fb"
      },
      "source": [
        "#to_give_new_value\n",
        "s7[0:3]=55\n",
        "print(s7)"
      ],
      "execution_count": null,
      "outputs": [
        {
          "output_type": "stream",
          "text": [
            "a      55\n",
            "b      55\n",
            "c      55\n",
            "rio    16\n",
            "jio    21\n",
            "f      26\n",
            "g      31\n",
            "h      36\n",
            "i      41\n",
            "j      46\n",
            "dtype: int64\n"
          ],
          "name": "stdout"
        }
      ]
    },
    {
      "cell_type": "code",
      "metadata": {
        "colab": {
          "base_uri": "https://localhost:8080/"
        },
        "id": "G5YTJDSybbyU",
        "outputId": "4266d211-e70a-4411-dbef-925631cc5d16"
      },
      "source": [
        "#name for the series\n",
        "s7.name='multi5'\n",
        "print(s7)"
      ],
      "execution_count": null,
      "outputs": [
        {
          "output_type": "stream",
          "text": [
            "a      55\n",
            "b      55\n",
            "c      55\n",
            "rio    16\n",
            "jio    21\n",
            "f      26\n",
            "g      31\n",
            "h      36\n",
            "i      41\n",
            "j      46\n",
            "Name: multi5, dtype: int64\n"
          ],
          "name": "stdout"
        }
      ]
    },
    {
      "cell_type": "code",
      "metadata": {
        "colab": {
          "base_uri": "https://localhost:8080/"
        },
        "id": "OMSiJu8ybxls",
        "outputId": "806724f8-dd08-4f89-fbec-1e0570361712"
      },
      "source": [
        "#similarly index name too\n",
        "s7.index.name='rio five'\n",
        "print(s7)"
      ],
      "execution_count": null,
      "outputs": [
        {
          "output_type": "stream",
          "text": [
            "rio five\n",
            "a      55\n",
            "b      55\n",
            "c      55\n",
            "rio    16\n",
            "jio    21\n",
            "f      26\n",
            "g      31\n",
            "h      36\n",
            "i      41\n",
            "j      46\n",
            "Name: multi5, dtype: int64\n"
          ],
          "name": "stdout"
        }
      ]
    },
    {
      "cell_type": "code",
      "metadata": {
        "colab": {
          "base_uri": "https://localhost:8080/"
        },
        "id": "7iPo9LSdcHgN",
        "outputId": "1199b7b8-4cc5-44c5-b865-39bb1548bfeb"
      },
      "source": [
        "#print all values alone as a numpy array\n",
        "print(s7.values)"
      ],
      "execution_count": null,
      "outputs": [
        {
          "output_type": "stream",
          "text": [
            "[55 55 55 16 21 26 31 36 41 46]\n"
          ],
          "name": "stdout"
        }
      ]
    },
    {
      "cell_type": "code",
      "metadata": {
        "colab": {
          "base_uri": "https://localhost:8080/"
        },
        "id": "MhmIfQbYcb94",
        "outputId": "5a9c5171-988a-4549-bcdb-443c82104440"
      },
      "source": [
        "#for size\n",
        "print(s7.size)"
      ],
      "execution_count": null,
      "outputs": [
        {
          "output_type": "stream",
          "text": [
            "10\n"
          ],
          "name": "stdout"
        }
      ]
    },
    {
      "cell_type": "code",
      "metadata": {
        "colab": {
          "base_uri": "https://localhost:8080/"
        },
        "id": "NOKw37_6c9pp",
        "outputId": "5bcffdf4-84f1-4aeb-a62f-e4ee461c9adc"
      },
      "source": [
        "#to check whether its empty\n",
        "print(s7.empty)"
      ],
      "execution_count": null,
      "outputs": [
        {
          "output_type": "stream",
          "text": [
            "False\n"
          ],
          "name": "stdout"
        }
      ]
    },
    {
      "cell_type": "code",
      "metadata": {
        "colab": {
          "base_uri": "https://localhost:8080/"
        },
        "id": "sFPpNQiUdH--",
        "outputId": "f8f4a4c7-4a7b-4478-eb1f-999b421e692c"
      },
      "source": [
        "#by default head will print 5 values\n",
        "s7.head()"
      ],
      "execution_count": null,
      "outputs": [
        {
          "output_type": "execute_result",
          "data": {
            "text/plain": [
              "rio five\n",
              "a      55\n",
              "b      55\n",
              "c      55\n",
              "rio    16\n",
              "jio    21\n",
              "Name: multi5, dtype: int64"
            ]
          },
          "metadata": {
            "tags": []
          },
          "execution_count": 21
        }
      ]
    },
    {
      "cell_type": "code",
      "metadata": {
        "colab": {
          "base_uri": "https://localhost:8080/"
        },
        "id": "OxIy9s3XdIN2",
        "outputId": "65f1d4a5-e3df-402c-9ba1-d2a11cca90e3"
      },
      "source": [
        "#by default tail will print last 5 values\n",
        "s7.tail()"
      ],
      "execution_count": null,
      "outputs": [
        {
          "output_type": "execute_result",
          "data": {
            "text/plain": [
              "rio five\n",
              "f    26\n",
              "g    31\n",
              "h    36\n",
              "i    41\n",
              "j    46\n",
              "Name: multi5, dtype: int64"
            ]
          },
          "metadata": {
            "tags": []
          },
          "execution_count": 22
        }
      ]
    },
    {
      "cell_type": "code",
      "metadata": {
        "colab": {
          "base_uri": "https://localhost:8080/"
        },
        "id": "EJ5HGSisdeoL",
        "outputId": "d57921b4-9039-4650-dc68-c033317694b2"
      },
      "source": [
        "#count (default function) counts no of values\n",
        "s7.count()"
      ],
      "execution_count": null,
      "outputs": [
        {
          "output_type": "execute_result",
          "data": {
            "text/plain": [
              "10"
            ]
          },
          "metadata": {
            "tags": []
          },
          "execution_count": 23
        }
      ]
    },
    {
      "cell_type": "code",
      "metadata": {
        "colab": {
          "base_uri": "https://localhost:8080/"
        },
        "id": "ihuyCRMRdqSz",
        "outputId": "1335e36a-c821-4725-fbaf-24a3d6214fa6"
      },
      "source": [
        "#counting according to silicing(size)\n",
        "s7[0:3]=None\n",
        "print(s7.count())\n",
        "print(s7.size)"
      ],
      "execution_count": null,
      "outputs": [
        {
          "output_type": "stream",
          "text": [
            "7\n",
            "10\n"
          ],
          "name": "stdout"
        }
      ]
    },
    {
      "cell_type": "markdown",
      "metadata": {
        "id": "ZoN-6PvEei9x"
      },
      "source": [
        "mathematical operations in series"
      ]
    },
    {
      "cell_type": "code",
      "metadata": {
        "colab": {
          "base_uri": "https://localhost:8080/"
        },
        "id": "RlCJu1itedbr",
        "outputId": "b0d9c021-abf8-4b92-8331-bc818024c3b2"
      },
      "source": [
        "s9=pd.Series([10,20,30,40,50], index=['1','2','3','4','5'])\n",
        "s10=pd.Series([100,200,300,400,500], index=['1','2','3','4','5'])\n",
        "print(s9+s10)"
      ],
      "execution_count": null,
      "outputs": [
        {
          "output_type": "stream",
          "text": [
            "1    110\n",
            "2    220\n",
            "3    330\n",
            "4    440\n",
            "5    550\n",
            "dtype: int64\n"
          ],
          "name": "stdout"
        }
      ]
    },
    {
      "cell_type": "code",
      "metadata": {
        "colab": {
          "base_uri": "https://localhost:8080/"
        },
        "id": "aaeXVrghfL_E",
        "outputId": "1205329a-5c3b-4ae6-f980-92ac637941ea"
      },
      "source": [
        "#somemore functionalities\n",
        "s9=pd.Series([10,20,30,40,50], index=['1','2','3','4','5'])\n",
        "s10=pd.Series([100,200,300,400,500], index=['9','8','3','4','5'])\n",
        "print(s9+s10)"
      ],
      "execution_count": null,
      "outputs": [
        {
          "output_type": "stream",
          "text": [
            "1      NaN\n",
            "2      NaN\n",
            "3    330.0\n",
            "4    440.0\n",
            "5    550.0\n",
            "8      NaN\n",
            "9      NaN\n",
            "dtype: float64\n"
          ],
          "name": "stdout"
        }
      ]
    },
    {
      "cell_type": "code",
      "metadata": {
        "colab": {
          "base_uri": "https://localhost:8080/"
        },
        "id": "1bNCACKohvnc",
        "outputId": "b069f2e0-ef49-4f67-a8e0-9922244789d9"
      },
      "source": [
        "#without returning nan\n",
        "s9.add(s10, fill_value=0)"
      ],
      "execution_count": null,
      "outputs": [
        {
          "output_type": "execute_result",
          "data": {
            "text/plain": [
              "1     10.0\n",
              "2     20.0\n",
              "3    330.0\n",
              "4    440.0\n",
              "5    550.0\n",
              "8    200.0\n",
              "9    100.0\n",
              "dtype: float64"
            ]
          },
          "metadata": {
            "tags": []
          },
          "execution_count": 28
        }
      ]
    },
    {
      "cell_type": "code",
      "metadata": {
        "colab": {
          "base_uri": "https://localhost:8080/"
        },
        "id": "xObV-htDiJF_",
        "outputId": "e5710443-0d5e-4aff-bece-d9ae638e4006"
      },
      "source": [
        "s9.add(s10, fill_value=1000)"
      ],
      "execution_count": null,
      "outputs": [
        {
          "output_type": "execute_result",
          "data": {
            "text/plain": [
              "1    1010.0\n",
              "2    1020.0\n",
              "3     330.0\n",
              "4     440.0\n",
              "5     550.0\n",
              "8    1200.0\n",
              "9    1100.0\n",
              "dtype: float64"
            ]
          },
          "metadata": {
            "tags": []
          },
          "execution_count": 29
        }
      ]
    },
    {
      "cell_type": "code",
      "metadata": {
        "colab": {
          "base_uri": "https://localhost:8080/"
        },
        "id": "dwLpwvczikeA",
        "outputId": "fe982b66-ad3a-4534-ea4f-b9ba4a00e726"
      },
      "source": [
        "# with division\n",
        "s9.div(s10,fill_value=0)"
      ],
      "execution_count": null,
      "outputs": [
        {
          "output_type": "execute_result",
          "data": {
            "text/plain": [
              "1    inf\n",
              "2    inf\n",
              "3    0.1\n",
              "4    0.1\n",
              "5    0.1\n",
              "8    0.0\n",
              "9    0.0\n",
              "dtype: float64"
            ]
          },
          "metadata": {
            "tags": []
          },
          "execution_count": 30
        }
      ]
    },
    {
      "cell_type": "code",
      "metadata": {
        "colab": {
          "base_uri": "https://localhost:8080/"
        },
        "id": "SePljPd1jTzW",
        "outputId": "48286094-df88-4faf-fad3-e15ff555743c"
      },
      "source": [
        "#with multiplication\n",
        "s9.mul(s10, fill_value=0)"
      ],
      "execution_count": null,
      "outputs": [
        {
          "output_type": "execute_result",
          "data": {
            "text/plain": [
              "1        0.0\n",
              "2        0.0\n",
              "3     9000.0\n",
              "4    16000.0\n",
              "5    25000.0\n",
              "8        0.0\n",
              "9        0.0\n",
              "dtype: float64"
            ]
          },
          "metadata": {
            "tags": []
          },
          "execution_count": 31
        }
      ]
    }
  ]
}